{
 "cells": [
  {
   "cell_type": "markdown",
   "metadata": {},
   "source": [
    "1"
   ]
  },
  {
   "cell_type": "markdown",
   "metadata": {},
   "source": [
    "Хрестоподібний фрактал "
   ]
  },
  {
   "cell_type": "code",
   "execution_count": 145,
   "metadata": {},
   "outputs": [],
   "source": [
    "import turtle"
   ]
  },
  {
   "cell_type": "code",
   "execution_count": 147,
   "metadata": {},
   "outputs": [],
   "source": [
    "# --- Функція генерації L-системи ---\n",
    "def generate_l_system(axiom, rules, iterations):\n",
    "    current = axiom\n",
    "    for _ in range(iterations):\n",
    "        next_seq = \"\"\n",
    "        for ch in current:\n",
    "            next_seq += rules.get(ch, ch)\n",
    "        current = next_seq\n",
    "    return current\n",
    "\n",
    "# --- Функція малювання за L-системою ---\n",
    "def draw_l_system(instructions, angle, step):\n",
    "    stack = []\n",
    "    for command in instructions:\n",
    "        if command == \"F\":\n",
    "            turtle.forward(step)\n",
    "        elif command == \"+\":\n",
    "            turtle.left(angle)\n",
    "        elif command == \"-\":\n",
    "            turtle.right(angle)\n",
    "        elif command == \"[\":\n",
    "            stack.append((turtle.position(), turtle.heading()))\n",
    "        elif command == \"]\":\n",
    "            position, heading = stack.pop()\n",
    "            turtle.penup()\n",
    "            turtle.setposition(position)\n",
    "            turtle.setheading(heading)\n",
    "            turtle.pendown()\n",
    "\n"
   ]
  },
  {
   "cell_type": "code",
   "execution_count": 175,
   "metadata": {},
   "outputs": [],
   "source": [
    "axiom = \"F+XF+F+XF\"\n",
    "rules = {\n",
    "    \"X\": \"XF-F+F-XF+F+XF-F+F-X\"\n",
    "}\n",
    "iterations = 3  # Кількість ітерацій (можна змінювати)\n",
    "angle = 90      # Кут повороту (можна змінити!)\n",
    "step = 15       # Довжина одного кроку (лінії)\n",
    "\n",
    "# --- Основна програма ---\n",
    "turtle.speed(0)\n",
    "turtle.hideturtle()\n",
    "turtle.penup()\n",
    "turtle.setposition(0, -200)\n",
    "turtle.pendown()\n",
    "\n",
    "instructions = generate_l_system(axiom, rules, iterations)\n",
    "draw_l_system(instructions, angle, step)\n",
    "\n",
    "turtle.done()"
   ]
  },
  {
   "cell_type": "markdown",
   "metadata": {},
   "source": [
    "2"
   ]
  },
  {
   "cell_type": "markdown",
   "metadata": {},
   "source": [
    "Кристалоподібний фрактал"
   ]
  },
  {
   "cell_type": "code",
   "execution_count": 130,
   "metadata": {},
   "outputs": [],
   "source": [
    "axiom = \"F+F+F+F\"\n",
    "rules = {\n",
    "    \"F\": \"FF+F++F+F\"\n",
    "}\n",
    "iterations = 2\n",
    "angle = 90\n",
    "step = 15\n",
    "\n",
    "turtle.title(\"Кристалоподібний фрактал\")\n",
    "turtle.speed(0)\n",
    "turtle.hideturtle()\n",
    "turtle.penup()\n",
    "turtle.setposition(-200, 0)\n",
    "turtle.setheading(0)\n",
    "turtle.pendown()\n",
    "\n",
    "instructions = generate_l_system(axiom, rules, iterations)\n",
    "draw_l_system(instructions, angle, step)\n",
    "\n",
    "turtle.done()\n"
   ]
  },
  {
   "cell_type": "markdown",
   "metadata": {},
   "source": [
    "3"
   ]
  },
  {
   "cell_type": "markdown",
   "metadata": {},
   "source": [
    "Квадратна сніжинка"
   ]
  },
  {
   "cell_type": "code",
   "execution_count": 187,
   "metadata": {},
   "outputs": [],
   "source": [
    "axiom = \"F\"\n",
    "rules = {\n",
    "    \"F\": \"F-F+F+F-F\"\n",
    "}\n",
    "iterations = 3\n",
    "angle = 90\n",
    "step = 10 \n",
    "\n",
    "turtle.title(\"Квадратна сніжинка\")\n",
    "turtle.speed(0)\n",
    "turtle.hideturtle()\n",
    "turtle.penup()\n",
    "turtle.setposition(-150, 0)\n",
    "turtle.setheading(0)\n",
    "turtle.pendown()\n",
    "\n",
    "instructions = generate_l_system(axiom, rules, iterations)\n",
    "draw_l_system(instructions, angle, step)\n",
    "\n",
    "turtle.done()\n"
   ]
  },
  {
   "cell_type": "markdown",
   "metadata": {},
   "source": [
    "4"
   ]
  },
  {
   "cell_type": "markdown",
   "metadata": {},
   "source": [
    "Квадратний острівець Коха"
   ]
  },
  {
   "cell_type": "code",
   "execution_count": 189,
   "metadata": {},
   "outputs": [],
   "source": [
    "axiom = \"F+F+F+F\"\n",
    "rules = {\n",
    "    \"F\": \"F+F-F-FFF+F+F-F\"\n",
    "}\n",
    "iterations = 2 \n",
    "angle = 90\n",
    "step = 5 \n",
    "\n",
    "turtle.title(\"Квадратний острівець Коха\")\n",
    "turtle.speed(0)\n",
    "turtle.hideturtle()\n",
    "turtle.penup()\n",
    "turtle.setposition(-200, 0)\n",
    "turtle.setheading(0)\n",
    "turtle.pendown()\n",
    "\n",
    "instructions = generate_l_system(axiom, rules, iterations)\n",
    "draw_l_system(instructions, angle, step)\n",
    "\n",
    "turtle.done()\n"
   ]
  },
  {
   "cell_type": "markdown",
   "metadata": {},
   "source": [
    "5"
   ]
  },
  {
   "cell_type": "markdown",
   "metadata": {},
   "source": [
    "Фрактальна зірочка"
   ]
  },
  {
   "cell_type": "code",
   "execution_count": 191,
   "metadata": {},
   "outputs": [],
   "source": [
    "axiom = \"X+X+X+X+X+X+X+X\"\n",
    "rules = {\n",
    "    \"X\": \"X+YF++YF-FX--FXFX-YF+X\",\n",
    "    \"Y\": \"-FX+YFYF++YF+FX--FX-YF\"\n",
    "}\n",
    "iterations = 2  \n",
    "angle = 45\n",
    "step = 2  \n",
    "\n",
    "\n",
    "turtle.title(\"Фрактальна зірочка\")\n",
    "turtle.speed(0)\n",
    "turtle.hideturtle()\n",
    "turtle.penup()\n",
    "turtle.setposition(0, 0)\n",
    "turtle.setheading(0)\n",
    "turtle.pendown()\n",
    "\n",
    "instructions = generate_l_system(axiom, rules, iterations)\n",
    "draw_l_system(instructions, angle, step)\n",
    "\n",
    "turtle.done()\n"
   ]
  },
  {
   "cell_type": "markdown",
   "metadata": {},
   "source": [
    "6"
   ]
  },
  {
   "cell_type": "markdown",
   "metadata": {},
   "source": [
    "Фрактальна дошка"
   ]
  },
  {
   "cell_type": "code",
   "execution_count": 193,
   "metadata": {},
   "outputs": [],
   "source": [
    "axiom = \"F+F+F+F\"\n",
    "rules = {\n",
    "    \"F\": \"FF+F+F+F+FF\"\n",
    "}\n",
    "iterations = 2  \n",
    "angle = 90\n",
    "step = 17 \n",
    "\n",
    "\n",
    "turtle.title(\"Фрактальна дошка\")\n",
    "turtle.speed(0)\n",
    "turtle.hideturtle()\n",
    "turtle.penup()\n",
    "turtle.setposition(0, 0)\n",
    "turtle.setheading(0)\n",
    "turtle.pendown()\n",
    "\n",
    "instructions = generate_l_system(axiom, rules, iterations)\n",
    "draw_l_system(instructions, angle, step)\n",
    "\n",
    "turtle.done()\n"
   ]
  },
  {
   "cell_type": "markdown",
   "metadata": {},
   "source": [
    "7"
   ]
  },
  {
   "cell_type": "markdown",
   "metadata": {},
   "source": [
    "Наконечник стріли Серпінського"
   ]
  },
  {
   "cell_type": "code",
   "execution_count": 139,
   "metadata": {},
   "outputs": [],
   "source": [
    "axiom = \"YF\"\n",
    "rules = {\n",
    "    \"X\": \"YF+XF+Y\",\n",
    "    \"Y\": \"XF-YF-X\"\n",
    "}\n",
    "iterations = 5 \n",
    "angle = 60\n",
    "step = 15\n",
    "\n",
    "\n",
    "turtle.title(\"Наконечник стріли Серпінського\")\n",
    "turtle.speed(0)\n",
    "turtle.hideturtle()\n",
    "turtle.penup()\n",
    "turtle.setposition(-200, 200)\n",
    "turtle.setheading(0)\n",
    "turtle.pendown()\n",
    "\n",
    "instructions = generate_l_system(axiom, rules, iterations)\n",
    "draw_l_system(instructions, angle, step)\n",
    "\n",
    "turtle.done()\n"
   ]
  },
  {
   "cell_type": "markdown",
   "metadata": {},
   "source": [
    "8"
   ]
  },
  {
   "cell_type": "markdown",
   "metadata": {},
   "source": [
    "П’ятикутна фрактальна сніжинка"
   ]
  },
  {
   "cell_type": "code",
   "execution_count": 141,
   "metadata": {},
   "outputs": [],
   "source": [
    "axiom = \"F++F++F++F++F\"\n",
    "rules = {\n",
    "    \"F\": \"F++F++F+++++F-F++F\"\n",
    "}\n",
    "iterations = 2 \n",
    "angle = 36\n",
    "step = 27\n",
    "\n",
    "\n",
    "turtle.title(\"П’ятикутна фрактальна сніжинка\")\n",
    "turtle.speed(0)\n",
    "turtle.hideturtle()\n",
    "turtle.penup()\n",
    "turtle.setposition(-100, -100)\n",
    "turtle.setheading(0)\n",
    "turtle.pendown()\n",
    "\n",
    "instructions = generate_l_system(axiom, rules, iterations)\n",
    "draw_l_system(instructions, angle, step)\n",
    "\n",
    "turtle.done()\n"
   ]
  }
 ],
 "metadata": {
  "kernelspec": {
   "display_name": "Python 3",
   "language": "python",
   "name": "python3"
  },
  "language_info": {
   "codemirror_mode": {
    "name": "ipython",
    "version": 3
   },
   "file_extension": ".py",
   "mimetype": "text/x-python",
   "name": "python",
   "nbconvert_exporter": "python",
   "pygments_lexer": "ipython3",
   "version": "3.13.0"
  }
 },
 "nbformat": 4,
 "nbformat_minor": 2
}
