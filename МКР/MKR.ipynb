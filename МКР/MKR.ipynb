{
 "cells": [
  {
   "cell_type": "markdown",
   "metadata": {},
   "source": [
    "Варіант 3"
   ]
  },
  {
   "cell_type": "markdown",
   "metadata": {},
   "source": [
    "Визначити фрактальну розмірність фрактала, що складається з тих точок відрізка [0; 1], в десятковому представленні яких відсутні цифри 3 та 7."
   ]
  },
  {
   "cell_type": "code",
   "execution_count": 3,
   "metadata": {},
   "outputs": [],
   "source": [
    "import matplotlib.pyplot as plt\n",
    "import numpy as np\n",
    "import math"
   ]
  },
  {
   "cell_type": "code",
   "execution_count": 7,
   "metadata": {},
   "outputs": [
    {
     "data": {
      "image/png": "[encoded data removed]",
      "text/plain": [
       "<Figure size 1200x200 with 1 Axes>"
      ]
     },
     "metadata": {},
     "output_type": "display_data"
    },
    {
     "name": "stdout",
     "output_type": "stream",
     "text": [
      "Формула для обчислення фрактальної розмірності:\n",
      "D = log(N) / log(B)\n",
      "D = log(8) / log(10) ≈ 0.90309\n"
     ]
    }
   ],
   "source": [
    "# Цифри, які дозволено використовувати (без 3 і 7)\n",
    "allowed_digits = ['0', '1', '2', '4', '5', '6', '8', '9']\n",
    "base = 10  # десяткова система числення\n",
    "\n",
    "#Генерує фрактал на відрізку [0;1]\n",
    "def generate_fractal(level, base=10):\n",
    "    result = []\n",
    "\n",
    "    def build(current, depth):\n",
    "        if depth == level:\n",
    "            result.append(float('0.' + current))\n",
    "            return\n",
    "        for digit in allowed_digits:\n",
    "            build(current + digit, depth + 1)\n",
    "\n",
    "    build('', 0)\n",
    "    return result\n",
    "\n",
    "def plot_fractal(points):\n",
    "    y = [0.5] * len(points)\n",
    "    plt.figure(figsize=(12, 2))\n",
    "    plt.scatter(points, y, marker='.', color='blue', s=1)\n",
    "    plt.title(\"Фрактал на [0;1] без цифр 3 і 7 у десятковому представленні\")\n",
    "    plt.xlabel(\"x\")\n",
    "    plt.yticks([])\n",
    "    plt.show()\n",
    "\n",
    "def fractal_dimension(N, B):\n",
    "    return math.log(N) / math.log(B)\n",
    "\n",
    "\n",
    "depth = 5\n",
    "points = generate_fractal(depth)\n",
    "plot_fractal(points)\n",
    "\n",
    "N = len(allowed_digits)\n",
    "D = fractal_dimension(N, base)\n",
    "\n",
    "print(\"Формула для обчислення фрактальної розмірності:\")\n",
    "print(\"D = log(N) / log(B)\")\n",
    "print(f\"D = log({N}) / log({base}) ≈ {D:.5f}\")\n"
   ]
  }
 ],
 "metadata": {
  "kernelspec": {
   "display_name": "Python 3",
   "language": "python",
   "name": "python3"
  },
  "language_info": {
   "codemirror_mode": {
    "name": "ipython",
    "version": 3
   },
   "file_extension": ".py",
   "mimetype": "text/x-python",
   "name": "python",
   "nbconvert_exporter": "python",
   "pygments_lexer": "ipython3",
   "version": "3.13.0"
  }
 },
 "nbformat": 4,
 "nbformat_minor": 2
}
